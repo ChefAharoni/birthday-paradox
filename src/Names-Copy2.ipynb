{
 "cells": [
  {
   "cell_type": "code",
   "execution_count": null,
   "metadata": {},
   "outputs": [],
   "source": [
    "import csv\n",
    "with open('interall.csv') as f_names:\n",
    "    f_reader = csv.reader(f_names, delimiter=',')\n",
    "    line = 0\n",
    "    names = list()  # list of all names to be added\n",
    "    for row in f_reader:\n",
    "        if line == 0:  # if the line is header\n",
    "            #print(f'Header: {\", \".join(row)}')\n",
    "            line += 1\n",
    "        else:\n",
    "            #print(row[0])\n",
    "            names.append(row[0])  # add the first value (the name) to the list of names\n",
    "            line += 1\n",
    "print(names)"
   ]
  },
  {
   "cell_type": "code",
   "execution_count": null,
   "metadata": {},
   "outputs": [],
   "source": [
    "def num_ppl():\n",
    "    num_of_ppl = int(input(\"Enter the amount of people you'd like to manually enter: \"))\n",
    "        while type(num_of_ppl) != int or num_of_ppl <= 0:\n",
    "            num_of_ppl = int(input(\"Error, please enter a valid number: \"))\n",
    "\n",
    "\n",
    "def choose_name():\n",
    "    # should choose 1 people each time\n",
    "    # .\n",
    "    name = input('Choose human name: ')\n",
    "    # check input?\n",
    "    return name\n",
    "\n",
    "\n",
    "def choose_bdd():\n",
    "    print(\"Enter the date of birth in DD MMMM format.\")\n",
    "    print(\"For example, 02 February\")\n",
    "    bdd = input(\">>> \")\n",
    "    # write a check for input\n",
    "    return bdd\n",
    "\n",
    "def choose_people(num_of_ppl: int):\n",
    "    ppl = dict()\n",
    "    for man in range(num_of_ppl):\n",
    "        name = choose_name()\n",
    "        bdd = choose_bdd()\n",
    "        ppl[name] = bdd\n",
    "    return ppl"
   ]
  },
  {
   "cell_type": "code",
   "execution_count": null,
   "metadata": {
    "scrolled": false
   },
   "outputs": [],
   "source": [
    "def choose_mode():\n",
    "    print('Please choose code running mode, with a number between 1 and 3.')\n",
    "    print('1. Auto Mode - the machine chooses random people and assigns random birthdates.')\n",
    "    print('2. Manual Mode - you will choose 23 people and assign their birthdates; csv file can be chosen as well.')\n",
    "    print('3. Semi Mode - you will choose a number of people, the machine will choose the rest.')\n",
    "\n",
    "    mode = int(input('>>> '))\n",
    "    while type(mode)!= int or mode not in [1, 2, 3]\n",
    "            mode = int(input('Error, please choose a mumber between 1 and 3.'))\n",
    "            \n",
    "    #update later to switch and case\n",
    "    if mode == 1:\n",
    "        #run Auto mode, call auto function\n",
    "        print(\"You've chosen Automatic Mode.\")\n",
    "    elif mode == 2:\n",
    "        # Manual mode\n",
    "        print(\"You've chosen Manual Mode.\")\n",
    "        usr_csv = use_csv()  # Checks if user has a csv to upload\n",
    "        manual_ppl = dict()\n",
    "        if usr_csv == False:  # if user doesnt have csv file\n",
    "            num_of_ppl = num_ppl()\n",
    "            ppl = choose_people(num_of_ppl)\n",
    "            print(ppl)\n",
    "        else:  # if user have a csv file\n",
    "            manual_ppl = usr_csv()\n",
    "    elif mode == 3:\n",
    "        # semi mode\n",
    "        print(\"You've chosen Semi Mode.\")\n",
    "        print(\"You will enter manually the number of people you'd like to check, and the machine would check the rest, up until 23.\")\n",
    "        num_of_ppl = num_ppl()        \n",
    "        ppl = choose_people(num_of_ppl)\n",
    "        print(ppl)\n",
    "        auto_runs = 23 - num_of_ppl\n",
    "        # write code here to let the machine run the random code for auto_runs times.\n",
    "    \n",
    "    \n",
    "choose_mode()"
   ]
  },
  {
   "cell_type": "code",
   "execution_count": 1,
   "metadata": {},
   "outputs": [
    {
     "name": "stdout",
     "output_type": "stream",
     "text": [
      "Please move the CSV file to the same folder with this code.\n",
      "Please enter the file name without extension: names\n",
      "names.csv\n"
     ]
    }
   ],
   "source": [
    "def bdd_csv():\n",
    "    import csv\n",
    "    print(\"Please make sure your first column is people's name and the second column is their birthdate, in the following format: \")\n",
    "    print(\"DD MMMM; i.e. - 02 February./n/n\")\n",
    "    print(\"Please move the CSV file to the same folder with this code.\")\n",
    "    f_name = input(\"Please enter the file name without extension: \")\n",
    "    # run check here for extension\n",
    "    f_name += \".csv\"\n",
    "    print(\"Is there a header in your file?\")\n",
    "    print(\"Enter 1 if there is a header.\")\n",
    "    print(\"Enter 0 if there is no header.\")\n",
    "    hdr = int(input(\">>> \"))\n",
    "    while type(hdr) != int or hdr not in [0, 1]:\n",
    "        hdr = int(input(\"Please enter a valid answer, between 0 and 1: \"))\n",
    "    with open(f_name) as f_manual_names:\n",
    "    f_reader = csv.reader(f_manual_names, delimiter=',')\n",
    "    line = 0\n",
    "    f_ppl = dict()\n",
    "    for row in f_reader:\n",
    "        if hdr == 1 and row == 0:  # if the first line is header\n",
    "            #print(f'Header: {\", \".join(row)}')\n",
    "            # ignore the header\n",
    "            line += 1\n",
    "        elif hdr == 1 and row != 0:\n",
    "            f_ppl[row[0]] = row[1]\n",
    "        else:  # if there is no header\n",
    "            #print(row[0])\n",
    "            f_ppl[row[0]] = row[1]  # adds name as key and bdd as value to dict\n",
    "            line += 1\n",
    "            \n",
    "    return f_ppl\n",
    "    \n",
    "bdd_csv()"
   ]
  },
  {
   "cell_type": "code",
   "execution_count": null,
   "metadata": {},
   "outputs": [],
   "source": [
    "def use_csv():\n",
    "    print(\"Do you want to upload a csv file?\")\n",
    "    print(\"Enter 0 for No, and 1 for Yes.\")\n",
    "    csv_exist = int(input(\">>> \"))\n",
    "    while type(csv_exist) != int or hdr not in [0, 1]:\n",
    "        csv_exist = int(input(\"Please enter a valid answer, between 0 and 1: \"))\n",
    "    if csv_exist == 0:\n",
    "        return False\n",
    "    elif csv_exist == 1:\n",
    "        return bdd_csv()"
   ]
  }
 ],
 "metadata": {
  "kernelspec": {
   "display_name": "Python 3 (ipykernel)",
   "language": "python",
   "name": "python3"
  },
  "language_info": {
   "codemirror_mode": {
    "name": "ipython",
    "version": 3
   },
   "file_extension": ".py",
   "mimetype": "text/x-python",
   "name": "python",
   "nbconvert_exporter": "python",
   "pygments_lexer": "ipython3",
   "version": "3.11.0"
  }
 },
 "nbformat": 4,
 "nbformat_minor": 2
}
