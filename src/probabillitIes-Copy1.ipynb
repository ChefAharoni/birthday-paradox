{
 "cells": [
  {
   "cell_type": "code",
   "execution_count": 12,
   "metadata": {},
   "outputs": [
    {
     "name": "stdout",
     "output_type": "stream",
     "text": [
      "Chances two pairs will not share a birthday: 10.877%\n",
      "Chances two pairs will share a birthday: 89.123%\n"
     ]
    },
    {
     "data": {
      "text/plain": [
       "0.891231809817949"
      ]
     },
     "execution_count": 12,
     "metadata": {},
     "output_type": "execute_result"
    }
   ],
   "source": [
    "def probability(total_days=365, num_of_ppl=23):\n",
    "    import math\n",
    "    n = total_days\n",
    "    k = num_of_ppl\n",
    "    v_nr = (math.factorial(n)) / (math.factorial(n-k))\n",
    "    v_t = n**k\n",
    "    p_a = (v_nr) / (v_t)\n",
    "    p_b = 1 - p_a\n",
    "    print(\"Chances two pairs will not share a birthday: \", end=\"\")\n",
    "    print(f'{p_a:.3%}')\n",
    "    print(\"Chances two pairs will share a birthday: \", end=\"\")\n",
    "    print(f'{p_b:.3%}')\n",
    "    return p_b\n",
    "    \n",
    "probability(num_of_ppl=40)"
   ]
  },
  {
   "cell_type": "markdown",
   "metadata": {},
   "source": [
    "\n",
    "\n",
    "\n",
    "$V_{nr}=\\dfrac{n!}{\\left( n-k\\right) !}$\n",
    " \n",
    "$V_{t}=n^{k}$\n",
    "\n",
    "$P\\left( A\\right) = \\dfrac{V_{nt}}{V_{t}}$\n",
    "\n",
    "$P\\left( B\\right) =1-P\\left( A\\right) $\n",
    "\n",
    "\n"
   ]
  },
  {
   "cell_type": "markdown",
   "metadata": {},
   "source": [
    "From a permutations perspective, let the event A be the probability of finding a group of 23 people without any repeated birthdays. Where the event B is the probability of finding a group of 23 people with at least two people sharing same birthday, P(B) = 1 − P(A). P(A) is the ratio of the total number of birthdays,\n",
    "${\\displaystyle V_{nr}}$, without repetitions and order matters (e.g. for a group of 2 people, mm/dd birthday format, one possible outcome is \n",
    "${\\displaystyle \\left\\{\\left\\{01/02,05/20\\right\\},\\left\\{05/20,01/02\\right\\},\\left\\{10/02,08/04\\right\\},...\\right\\}}$ divided by the total number of birthdays with repetition and order matters, \n",
    "$V_{t}$, as it is the total space of outcomes from the experiment (e.g. 2 people, one possible outcome is ${\\displaystyle \\left\\{\\left\\{01/02,01/02\\right\\},\\left\\{10/02,08/04\\right\\},...\\right\\}}$. Therefore ${\\displaystyle V_{nr}}$ and $V_{t}$ are permutations."
   ]
  },
  {
   "cell_type": "code",
   "execution_count": null,
   "metadata": {},
   "outputs": [],
   "source": []
  }
 ],
 "metadata": {
  "kernelspec": {
   "display_name": "Python 3 (ipykernel)",
   "language": "python",
   "name": "python3"
  },
  "language_info": {
   "codemirror_mode": {
    "name": "ipython",
    "version": 3
   },
   "file_extension": ".py",
   "mimetype": "text/x-python",
   "name": "python",
   "nbconvert_exporter": "python",
   "pygments_lexer": "ipython3",
   "version": "3.11.0"
  }
 },
 "nbformat": 4,
 "nbformat_minor": 2
}
